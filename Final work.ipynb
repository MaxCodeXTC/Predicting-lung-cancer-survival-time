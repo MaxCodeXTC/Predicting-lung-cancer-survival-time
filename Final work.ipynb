{
 "cells": [
  {
   "cell_type": "markdown",
   "metadata": {},
   "source": [
    "# Predicting lung cancer survival time"
   ]
  },
  {
   "cell_type": "markdown",
   "metadata": {},
   "source": [
    "predict the survival time of a patient (remaining days to live) from one three-dimensional CT scan (grayscale image) and a set of pre-extracted quantitative imaging features, as well as clinical data"
   ]
  },
  {
   "cell_type": "markdown",
   "metadata": {},
   "source": [
    "### $\\color{green}{\\text{ Importing Libraries }}$ "
   ]
  },
  {
   "cell_type": "code",
   "execution_count": 1,
   "metadata": {},
   "outputs": [],
   "source": [
    "import pandas as pd\n",
    "import numpy as np\n",
    "from sklearn.preprocessing import LabelEncoder , OneHotEncoder\n",
    "from lifelines.utils import concordance_index\n",
    "from lifelines import CoxPHFitter, WeibullAFTFitter , LogNormalAFTFitter\n",
    "from lifelines.utils import k_fold_cross_validation\n",
    "from IPython.display import HTML"
   ]
  },
  {
   "cell_type": "markdown",
   "metadata": {},
   "source": [
    "## $\\color{red}{\\text{ Exploring Data}}$"
   ]
  },
  {
   "cell_type": "markdown",
   "metadata": {},
   "source": [
    "## X Train "
   ]
  },
  {
   "cell_type": "markdown",
   "metadata": {},
   "source": [
    "## $\\color{Blue}{\\text {Features Exploration }}$"
   ]
  },
  {
   "cell_type": "code",
   "execution_count": 2,
   "metadata": {},
   "outputs": [],
   "source": [
    "train_path = '/home/zahrael97/Downloads/challenge file/xtrain/data_Q0G7b5t'\n",
    "#Radiomic Training data \n",
    "df_Radiomics_train = pd.read_csv(train_path + '/features/radiomics.csv',skiprows=[0,2], header=[0],index_col=0)\n",
    "#Clinical Training data \n",
    "df_clinical_train = pd.read_csv(train_path + '/features/clinical_data.csv',index_col=0)"
   ]
  },
  {
   "cell_type": "code",
   "execution_count": 3,
   "metadata": {
    "scrolled": true
   },
   "outputs": [
    {
     "data": {
      "text/html": [
       "<div>\n",
       "<style scoped>\n",
       "    .dataframe tbody tr th:only-of-type {\n",
       "        vertical-align: middle;\n",
       "    }\n",
       "\n",
       "    .dataframe tbody tr th {\n",
       "        vertical-align: top;\n",
       "    }\n",
       "\n",
       "    .dataframe thead th {\n",
       "        text-align: right;\n",
       "    }\n",
       "</style>\n",
       "<table border=\"1\" class=\"dataframe\">\n",
       "  <thead>\n",
       "    <tr style=\"text-align: right;\">\n",
       "      <th></th>\n",
       "      <th>Histology</th>\n",
       "      <th>Mstage</th>\n",
       "      <th>Nstage</th>\n",
       "      <th>SourceDataset</th>\n",
       "      <th>Tstage</th>\n",
       "      <th>age</th>\n",
       "    </tr>\n",
       "    <tr>\n",
       "      <th>PatientID</th>\n",
       "      <th></th>\n",
       "      <th></th>\n",
       "      <th></th>\n",
       "      <th></th>\n",
       "      <th></th>\n",
       "      <th></th>\n",
       "    </tr>\n",
       "  </thead>\n",
       "  <tbody>\n",
       "    <tr>\n",
       "      <th>202</th>\n",
       "      <td>Adenocarcinoma</td>\n",
       "      <td>0</td>\n",
       "      <td>0</td>\n",
       "      <td>l2</td>\n",
       "      <td>2</td>\n",
       "      <td>66.0000</td>\n",
       "    </tr>\n",
       "    <tr>\n",
       "      <th>371</th>\n",
       "      <td>large cell</td>\n",
       "      <td>0</td>\n",
       "      <td>2</td>\n",
       "      <td>l1</td>\n",
       "      <td>4</td>\n",
       "      <td>64.5722</td>\n",
       "    </tr>\n",
       "    <tr>\n",
       "      <th>246</th>\n",
       "      <td>squamous cell carcinoma</td>\n",
       "      <td>0</td>\n",
       "      <td>3</td>\n",
       "      <td>l1</td>\n",
       "      <td>2</td>\n",
       "      <td>66.0452</td>\n",
       "    </tr>\n",
       "    <tr>\n",
       "      <th>240</th>\n",
       "      <td>nos</td>\n",
       "      <td>0</td>\n",
       "      <td>2</td>\n",
       "      <td>l1</td>\n",
       "      <td>3</td>\n",
       "      <td>59.3566</td>\n",
       "    </tr>\n",
       "    <tr>\n",
       "      <th>284</th>\n",
       "      <td>squamous cell carcinoma</td>\n",
       "      <td>0</td>\n",
       "      <td>3</td>\n",
       "      <td>l1</td>\n",
       "      <td>4</td>\n",
       "      <td>71.0554</td>\n",
       "    </tr>\n",
       "  </tbody>\n",
       "</table>\n",
       "</div>"
      ],
      "text/plain": [
       "                         Histology  Mstage  Nstage SourceDataset  Tstage  \\\n",
       "PatientID                                                                  \n",
       "202                 Adenocarcinoma       0       0            l2       2   \n",
       "371                     large cell       0       2            l1       4   \n",
       "246        squamous cell carcinoma       0       3            l1       2   \n",
       "240                            nos       0       2            l1       3   \n",
       "284        squamous cell carcinoma       0       3            l1       4   \n",
       "\n",
       "               age  \n",
       "PatientID           \n",
       "202        66.0000  \n",
       "371        64.5722  \n",
       "246        66.0452  \n",
       "240        59.3566  \n",
       "284        71.0554  "
      ]
     },
     "execution_count": 3,
     "metadata": {},
     "output_type": "execute_result"
    }
   ],
   "source": [
    "df_clinical_train.head()"
   ]
  },
  {
   "cell_type": "markdown",
   "metadata": {},
   "source": [
    "## What missing values are there?"
   ]
  },
  {
   "cell_type": "code",
   "execution_count": 4,
   "metadata": {},
   "outputs": [
    {
     "data": {
      "text/plain": [
       "Histology        20\n",
       "Mstage            0\n",
       "Nstage            0\n",
       "SourceDataset     0\n",
       "Tstage            0\n",
       "age              16\n",
       "dtype: int64"
      ]
     },
     "execution_count": 4,
     "metadata": {},
     "output_type": "execute_result"
    }
   ],
   "source": [
    "df_clinical_train.isnull().sum()"
   ]
  },
  {
   "cell_type": "code",
   "execution_count": 5,
   "metadata": {},
   "outputs": [],
   "source": [
    "#We will use the age feature after filling the NaN values \n",
    "df_clinical_train = df_clinical_train.fillna(df_clinical_train.mean())"
   ]
  },
  {
   "cell_type": "code",
   "execution_count": 6,
   "metadata": {
    "scrolled": true
   },
   "outputs": [
    {
     "data": {
      "text/plain": [
       "Histology        20\n",
       "Mstage            0\n",
       "Nstage            0\n",
       "SourceDataset     0\n",
       "Tstage            0\n",
       "age               0\n",
       "dtype: int64"
      ]
     },
     "execution_count": 6,
     "metadata": {},
     "output_type": "execute_result"
    }
   ],
   "source": [
    "df_clinical_train.isnull().sum()"
   ]
  },
  {
   "cell_type": "markdown",
   "metadata": {},
   "source": [
    "We will ignore the Histology feature"
   ]
  },
  {
   "cell_type": "code",
   "execution_count": 7,
   "metadata": {
    "scrolled": true
   },
   "outputs": [
    {
     "data": {
      "text/plain": [
       "<matplotlib.axes._subplots.AxesSubplot at 0x7f56a691edd8>"
      ]
     },
     "execution_count": 7,
     "metadata": {},
     "output_type": "execute_result"
    },
    {
     "data": {
      "image/png": "[encoded data removed]",
      "text/plain": [
       "<Figure size 432x288 with 1 Axes>"
      ]
     },
     "metadata": {
      "needs_background": "light"
     },
     "output_type": "display_data"
    }
   ],
   "source": [
    "df_clinical_train.age.plot.hist()"
   ]
  },
  {
   "cell_type": "code",
   "execution_count": 8,
   "metadata": {
    "scrolled": true
   },
   "outputs": [
    {
     "data": {
      "text/plain": [
       "<matplotlib.axes._subplots.AxesSubplot at 0x7f56a663c978>"
      ]
     },
     "execution_count": 8,
     "metadata": {},
     "output_type": "execute_result"
    },
    {
     "data": {
      "image/png": "[encoded data removed]",
      "text/plain": [
       "<Figure size 432x288 with 1 Axes>"
      ]
     },
     "metadata": {
      "needs_background": "light"
     },
     "output_type": "display_data"
    }
   ],
   "source": [
    "df_clinical_train.Tstage.plot.hist()"
   ]
  },
  {
   "cell_type": "code",
   "execution_count": 9,
   "metadata": {},
   "outputs": [
    {
     "data": {
      "text/plain": [
       "<matplotlib.axes._subplots.AxesSubplot at 0x7f56a6542860>"
      ]
     },
     "execution_count": 9,
     "metadata": {},
     "output_type": "execute_result"
    },
    {
     "data": {
      "image/png": "[encoded data removed]",
      "text/plain": [
       "<Figure size 432x288 with 1 Axes>"
      ]
     },
     "metadata": {
      "needs_background": "light"
     },
     "output_type": "display_data"
    }
   ],
   "source": [
    "df_clinical_train.Nstage.plot.hist()"
   ]
  },
  {
   "cell_type": "markdown",
   "metadata": {},
   "source": [
    "Histology contain 20 NaN value we will not work with it "
   ]
  },
  {
   "cell_type": "markdown",
   "metadata": {},
   "source": [
    "## Feature Encoding\n",
    "Now we will encode the SourceDataset feature so it will be  ready to be used with our machine learning models.\n",
    "\n"
   ]
  },
  {
   "cell_type": "code",
   "execution_count": 10,
   "metadata": {
    "scrolled": true
   },
   "outputs": [],
   "source": [
    "encoder = LabelEncoder()\n",
    "encoder.fit(df_clinical_train[\"SourceDataset\"] )\n",
    "df_clinical_train[\"SourceDataset\"]= encoder.transform(df_clinical_train[\"SourceDataset\"])"
   ]
  },
  {
   "cell_type": "code",
   "execution_count": 11,
   "metadata": {
    "scrolled": true
   },
   "outputs": [
    {
     "data": {
      "text/html": [
       "<div>\n",
       "<style scoped>\n",
       "    .dataframe tbody tr th:only-of-type {\n",
       "        vertical-align: middle;\n",
       "    }\n",
       "\n",
       "    .dataframe tbody tr th {\n",
       "        vertical-align: top;\n",
       "    }\n",
       "\n",
       "    .dataframe thead th {\n",
       "        text-align: right;\n",
       "    }\n",
       "</style>\n",
       "<table border=\"1\" class=\"dataframe\">\n",
       "  <thead>\n",
       "    <tr style=\"text-align: right;\">\n",
       "      <th></th>\n",
       "      <th>original_shape_Compactness1</th>\n",
       "      <th>original_shape_Compactness2</th>\n",
       "      <th>original_shape_Maximum3DDiameter</th>\n",
       "      <th>original_shape_SphericalDisproportion</th>\n",
       "      <th>original_shape_Sphericity</th>\n",
       "      <th>original_shape_SurfaceArea</th>\n",
       "      <th>original_shape_SurfaceVolumeRatio</th>\n",
       "      <th>original_shape_VoxelVolume</th>\n",
       "      <th>original_firstorder_Energy</th>\n",
       "      <th>original_firstorder_Entropy</th>\n",
       "      <th>...</th>\n",
       "      <th>original_glrlm_LongRunEmphasis</th>\n",
       "      <th>original_glrlm_GrayLevelNonUniformity</th>\n",
       "      <th>original_glrlm_RunLengthNonUniformity</th>\n",
       "      <th>original_glrlm_RunPercentage</th>\n",
       "      <th>original_glrlm_LowGrayLevelRunEmphasis</th>\n",
       "      <th>original_glrlm_HighGrayLevelRunEmphasis</th>\n",
       "      <th>original_glrlm_ShortRunLowGrayLevelEmphasis</th>\n",
       "      <th>original_glrlm_ShortRunHighGrayLevelEmphasis</th>\n",
       "      <th>original_glrlm_LongRunLowGrayLevelEmphasis</th>\n",
       "      <th>original_glrlm_LongRunHighGrayLevelEmphasis</th>\n",
       "    </tr>\n",
       "  </thead>\n",
       "  <tbody>\n",
       "    <tr>\n",
       "      <th>202</th>\n",
       "      <td>0.027815</td>\n",
       "      <td>0.274892</td>\n",
       "      <td>48.559242</td>\n",
       "      <td>1.537964</td>\n",
       "      <td>0.650210</td>\n",
       "      <td>5431.333210</td>\n",
       "      <td>0.275228</td>\n",
       "      <td>19786.0</td>\n",
       "      <td>3.942944e+09</td>\n",
       "      <td>5.138062</td>\n",
       "      <td>...</td>\n",
       "      <td>1.457980</td>\n",
       "      <td>555.378594</td>\n",
       "      <td>14592.303727</td>\n",
       "      <td>0.891330</td>\n",
       "      <td>0.003562</td>\n",
       "      <td>954.749135</td>\n",
       "      <td>0.003384</td>\n",
       "      <td>851.987373</td>\n",
       "      <td>0.004444</td>\n",
       "      <td>1651.710761</td>\n",
       "    </tr>\n",
       "    <tr>\n",
       "      <th>371</th>\n",
       "      <td>0.023015</td>\n",
       "      <td>0.188210</td>\n",
       "      <td>75.703368</td>\n",
       "      <td>1.744961</td>\n",
       "      <td>0.573079</td>\n",
       "      <td>10369.568729</td>\n",
       "      <td>0.240727</td>\n",
       "      <td>43168.0</td>\n",
       "      <td>3.122890e+09</td>\n",
       "      <td>4.461054</td>\n",
       "      <td>...</td>\n",
       "      <td>2.512125</td>\n",
       "      <td>1766.619373</td>\n",
       "      <td>22881.932686</td>\n",
       "      <td>0.766032</td>\n",
       "      <td>0.002246</td>\n",
       "      <td>1092.823724</td>\n",
       "      <td>0.002069</td>\n",
       "      <td>884.838627</td>\n",
       "      <td>0.003633</td>\n",
       "      <td>3386.995589</td>\n",
       "    </tr>\n",
       "    <tr>\n",
       "      <th>246</th>\n",
       "      <td>0.027348</td>\n",
       "      <td>0.265740</td>\n",
       "      <td>70.434367</td>\n",
       "      <td>1.555420</td>\n",
       "      <td>0.642913</td>\n",
       "      <td>10558.818691</td>\n",
       "      <td>0.200766</td>\n",
       "      <td>52655.0</td>\n",
       "      <td>1.059535e+09</td>\n",
       "      <td>3.437111</td>\n",
       "      <td>...</td>\n",
       "      <td>4.096838</td>\n",
       "      <td>3462.816344</td>\n",
       "      <td>18773.106002</td>\n",
       "      <td>0.644554</td>\n",
       "      <td>0.001880</td>\n",
       "      <td>878.989601</td>\n",
       "      <td>0.001635</td>\n",
       "      <td>634.910036</td>\n",
       "      <td>0.004869</td>\n",
       "      <td>4232.418080</td>\n",
       "    </tr>\n",
       "    <tr>\n",
       "      <th>240</th>\n",
       "      <td>0.026811</td>\n",
       "      <td>0.255406</td>\n",
       "      <td>46.818800</td>\n",
       "      <td>1.576120</td>\n",
       "      <td>0.634469</td>\n",
       "      <td>4221.412123</td>\n",
       "      <td>0.323878</td>\n",
       "      <td>13074.0</td>\n",
       "      <td>6.583324e+08</td>\n",
       "      <td>4.352564</td>\n",
       "      <td>...</td>\n",
       "      <td>1.824328</td>\n",
       "      <td>683.869792</td>\n",
       "      <td>7978.285176</td>\n",
       "      <td>0.828138</td>\n",
       "      <td>0.002855</td>\n",
       "      <td>907.045929</td>\n",
       "      <td>0.002680</td>\n",
       "      <td>774.885387</td>\n",
       "      <td>0.003901</td>\n",
       "      <td>1844.746046</td>\n",
       "    </tr>\n",
       "    <tr>\n",
       "      <th>284</th>\n",
       "      <td>0.023691</td>\n",
       "      <td>0.199424</td>\n",
       "      <td>53.795911</td>\n",
       "      <td>1.711620</td>\n",
       "      <td>0.584242</td>\n",
       "      <td>5295.900331</td>\n",
       "      <td>0.327241</td>\n",
       "      <td>16237.0</td>\n",
       "      <td>8.072532e+08</td>\n",
       "      <td>4.055700</td>\n",
       "      <td>...</td>\n",
       "      <td>2.652580</td>\n",
       "      <td>962.094760</td>\n",
       "      <td>7520.054910</td>\n",
       "      <td>0.734898</td>\n",
       "      <td>0.006710</td>\n",
       "      <td>1513.420445</td>\n",
       "      <td>0.004704</td>\n",
       "      <td>1197.140900</td>\n",
       "      <td>0.023273</td>\n",
       "      <td>4444.272812</td>\n",
       "    </tr>\n",
       "  </tbody>\n",
       "</table>\n",
       "<p>5 rows × 53 columns</p>\n",
       "</div>"
      ],
      "text/plain": [
       "     original_shape_Compactness1  original_shape_Compactness2  \\\n",
       "202                     0.027815                     0.274892   \n",
       "371                     0.023015                     0.188210   \n",
       "246                     0.027348                     0.265740   \n",
       "240                     0.026811                     0.255406   \n",
       "284                     0.023691                     0.199424   \n",
       "\n",
       "     original_shape_Maximum3DDiameter  original_shape_SphericalDisproportion  \\\n",
       "202                         48.559242                               1.537964   \n",
       "371                         75.703368                               1.744961   \n",
       "246                         70.434367                               1.555420   \n",
       "240                         46.818800                               1.576120   \n",
       "284                         53.795911                               1.711620   \n",
       "\n",
       "     original_shape_Sphericity  original_shape_SurfaceArea  \\\n",
       "202                   0.650210                 5431.333210   \n",
       "371                   0.573079                10369.568729   \n",
       "246                   0.642913                10558.818691   \n",
       "240                   0.634469                 4221.412123   \n",
       "284                   0.584242                 5295.900331   \n",
       "\n",
       "     original_shape_SurfaceVolumeRatio  original_shape_VoxelVolume  \\\n",
       "202                           0.275228                     19786.0   \n",
       "371                           0.240727                     43168.0   \n",
       "246                           0.200766                     52655.0   \n",
       "240                           0.323878                     13074.0   \n",
       "284                           0.327241                     16237.0   \n",
       "\n",
       "     original_firstorder_Energy  original_firstorder_Entropy  ...  \\\n",
       "202                3.942944e+09                     5.138062  ...   \n",
       "371                3.122890e+09                     4.461054  ...   \n",
       "246                1.059535e+09                     3.437111  ...   \n",
       "240                6.583324e+08                     4.352564  ...   \n",
       "284                8.072532e+08                     4.055700  ...   \n",
       "\n",
       "     original_glrlm_LongRunEmphasis  original_glrlm_GrayLevelNonUniformity  \\\n",
       "202                        1.457980                             555.378594   \n",
       "371                        2.512125                            1766.619373   \n",
       "246                        4.096838                            3462.816344   \n",
       "240                        1.824328                             683.869792   \n",
       "284                        2.652580                             962.094760   \n",
       "\n",
       "     original_glrlm_RunLengthNonUniformity  original_glrlm_RunPercentage  \\\n",
       "202                           14592.303727                      0.891330   \n",
       "371                           22881.932686                      0.766032   \n",
       "246                           18773.106002                      0.644554   \n",
       "240                            7978.285176                      0.828138   \n",
       "284                            7520.054910                      0.734898   \n",
       "\n",
       "     original_glrlm_LowGrayLevelRunEmphasis  \\\n",
       "202                                0.003562   \n",
       "371                                0.002246   \n",
       "246                                0.001880   \n",
       "240                                0.002855   \n",
       "284                                0.006710   \n",
       "\n",
       "     original_glrlm_HighGrayLevelRunEmphasis  \\\n",
       "202                               954.749135   \n",
       "371                              1092.823724   \n",
       "246                               878.989601   \n",
       "240                               907.045929   \n",
       "284                              1513.420445   \n",
       "\n",
       "     original_glrlm_ShortRunLowGrayLevelEmphasis  \\\n",
       "202                                     0.003384   \n",
       "371                                     0.002069   \n",
       "246                                     0.001635   \n",
       "240                                     0.002680   \n",
       "284                                     0.004704   \n",
       "\n",
       "     original_glrlm_ShortRunHighGrayLevelEmphasis  \\\n",
       "202                                    851.987373   \n",
       "371                                    884.838627   \n",
       "246                                    634.910036   \n",
       "240                                    774.885387   \n",
       "284                                   1197.140900   \n",
       "\n",
       "     original_glrlm_LongRunLowGrayLevelEmphasis  \\\n",
       "202                                    0.004444   \n",
       "371                                    0.003633   \n",
       "246                                    0.004869   \n",
       "240                                    0.003901   \n",
       "284                                    0.023273   \n",
       "\n",
       "     original_glrlm_LongRunHighGrayLevelEmphasis  \n",
       "202                                  1651.710761  \n",
       "371                                  3386.995589  \n",
       "246                                  4232.418080  \n",
       "240                                  1844.746046  \n",
       "284                                  4444.272812  \n",
       "\n",
       "[5 rows x 53 columns]"
      ]
     },
     "execution_count": 11,
     "metadata": {},
     "output_type": "execute_result"
    }
   ],
   "source": [
    "df_Radiomics_train.head()"
   ]
  },
  {
   "cell_type": "code",
   "execution_count": 12,
   "metadata": {},
   "outputs": [
    {
     "data": {
      "text/plain": [
       "0"
      ]
     },
     "execution_count": 12,
     "metadata": {},
     "output_type": "execute_result"
    }
   ],
   "source": [
    "df_Radiomics_train.isnull().sum().sum()"
   ]
  },
  {
   "cell_type": "markdown",
   "metadata": {},
   "source": [
    "This baseline is trained on a selection of features from both clinical data file and radiomics file. A Cox-PH model was fitted on\n",
    "\n",
    "- Tumor sphericity, a measure of the roundness of the shape of the tumor region relative to a sphere, regardless its dimensions (size)\n",
    "- The tumor's surface to volume ratio is a measure of the compactness of the tumor, related to its size  \n",
    "- The tumor's maximum 3d diameter The biggest diameter measurable from the tumor volume \n",
    "- The dataset of origin\n",
    "- The N-tumoral stage grading of the tumor describing nearby (regional) lymph nodes involved\n",
    "- The tumor's joint entropy, specifying the randomness in the image pixel values\n",
    "- age\n",
    "- Tstage\n",
    "- The tumor's inverse different, a measure of the local homogeneity of the tumor\n",
    "-  The tumor's inverse difference moment is another measurement of the local homogeneity of the tumor"
   ]
  },
  {
   "cell_type": "code",
   "execution_count": 13,
   "metadata": {},
   "outputs": [],
   "source": [
    "df_X_train = pd.concat([df_Radiomics_train[[\"original_shape_Sphericity\", \"original_shape_SurfaceVolumeRatio\", \"original_shape_Maximum3DDiameter\",\"original_firstorder_Entropy\",\n",
    "\"original_glcm_Id\",\"original_glcm_Idm\"]],df_clinical_train[[\"SourceDataset\",\"Nstage\",\"Tstage\",\"age\"]]], axis=1)"
   ]
  },
  {
   "cell_type": "markdown",
   "metadata": {},
   "source": [
    "## y Train"
   ]
  },
  {
   "cell_type": "code",
   "execution_count": 14,
   "metadata": {},
   "outputs": [
    {
     "name": "stdout",
     "output_type": "stream",
     "text": [
      "p0.Event 0\n",
      "p0.SurvivalTime 1378\n"
     ]
    }
   ],
   "source": [
    "ytrain_path = '/home/zahrael97/Downloads/challenge file/ytrain'\n",
    "df_y = pd.read_csv( ytrain_path+ '/output_VSVxRFU.csv', index_col=0)\n",
    "p0 = df_y.loc[202]\n",
    "print(\"p0.Event\", p0.Event)\n",
    "print(\"p0.SurvivalTime\", p0.SurvivalTime)"
   ]
  },
  {
   "cell_type": "markdown",
   "metadata": {},
   "source": [
    "## $\\color{red}{\\text {Start Building Machine Learning Models}}$\n",
    "Now our data has been manipulating and converted to numbers, we can run the machine learning Models."
   ]
  },
  {
   "cell_type": "markdown",
   "metadata": {},
   "source": [
    "## CoxPHFitter "
   ]
  },
  {
   "cell_type": "code",
   "execution_count": 15,
   "metadata": {},
   "outputs": [],
   "source": [
    "cph = CoxPHFitter().fit(pd.concat([df_X_train, df_y], axis = 1),duration_col = 'SurvivalTime', event_col='Event') "
   ]
  },
  {
   "cell_type": "code",
   "execution_count": 16,
   "metadata": {
    "scrolled": true
   },
   "outputs": [
    {
     "data": {
      "text/html": [
       "<div>\n",
       "<style scoped>\n",
       "    .dataframe tbody tr th:only-of-type {\n",
       "        vertical-align: middle;\n",
       "    }\n",
       "\n",
       "    .dataframe tbody tr th {\n",
       "        vertical-align: top;\n",
       "    }\n",
       "\n",
       "    .dataframe thead th {\n",
       "        text-align: right;\n",
       "    }\n",
       "</style>\n",
       "<table border=\"1\" class=\"dataframe\">\n",
       "  <tbody>\n",
       "    <tr>\n",
       "      <th>model</th>\n",
       "      <td>lifelines.CoxPHFitter</td>\n",
       "    </tr>\n",
       "    <tr>\n",
       "      <th>duration col</th>\n",
       "      <td>'SurvivalTime'</td>\n",
       "    </tr>\n",
       "    <tr>\n",
       "      <th>event col</th>\n",
       "      <td>'Event'</td>\n",
       "    </tr>\n",
       "    <tr>\n",
       "      <th>number of observations</th>\n",
       "      <td>300</td>\n",
       "    </tr>\n",
       "    <tr>\n",
       "      <th>number of events observed</th>\n",
       "      <td>162</td>\n",
       "    </tr>\n",
       "    <tr>\n",
       "      <th>partial log-likelihood</th>\n",
       "      <td>-798.27</td>\n",
       "    </tr>\n",
       "    <tr>\n",
       "      <th>time fit was run</th>\n",
       "      <td>2020-01-28 23:58:26 UTC</td>\n",
       "    </tr>\n",
       "  </tbody>\n",
       "</table>\n",
       "</div><table border=\"1\" class=\"dataframe\">\n",
       "  <thead>\n",
       "    <tr style=\"text-align: right;\">\n",
       "      <th></th>\n",
       "      <th>coef</th>\n",
       "      <th>exp(coef)</th>\n",
       "      <th>se(coef)</th>\n",
       "      <th>coef lower 95%</th>\n",
       "      <th>coef upper 95%</th>\n",
       "      <th>exp(coef) lower 95%</th>\n",
       "      <th>exp(coef) upper 95%</th>\n",
       "      <th>z</th>\n",
       "      <th>p</th>\n",
       "      <th>-log2(p)</th>\n",
       "    </tr>\n",
       "  </thead>\n",
       "  <tbody>\n",
       "    <tr>\n",
       "      <th>original_shape_Sphericity</th>\n",
       "      <td>1.63</td>\n",
       "      <td>5.12</td>\n",
       "      <td>1.27</td>\n",
       "      <td>-0.85</td>\n",
       "      <td>4.12</td>\n",
       "      <td>0.43</td>\n",
       "      <td>61.26</td>\n",
       "      <td>1.29</td>\n",
       "      <td>0.20</td>\n",
       "      <td>2.34</td>\n",
       "    </tr>\n",
       "    <tr>\n",
       "      <th>original_shape_SurfaceVolumeRatio</th>\n",
       "      <td>0.81</td>\n",
       "      <td>2.26</td>\n",
       "      <td>0.95</td>\n",
       "      <td>-1.05</td>\n",
       "      <td>2.68</td>\n",
       "      <td>0.35</td>\n",
       "      <td>14.58</td>\n",
       "      <td>0.86</td>\n",
       "      <td>0.39</td>\n",
       "      <td>1.35</td>\n",
       "    </tr>\n",
       "    <tr>\n",
       "      <th>original_shape_Maximum3DDiameter</th>\n",
       "      <td>0.01</td>\n",
       "      <td>1.01</td>\n",
       "      <td>0.00</td>\n",
       "      <td>0.00</td>\n",
       "      <td>0.02</td>\n",
       "      <td>1.00</td>\n",
       "      <td>1.02</td>\n",
       "      <td>2.16</td>\n",
       "      <td>0.03</td>\n",
       "      <td>5.02</td>\n",
       "    </tr>\n",
       "    <tr>\n",
       "      <th>original_firstorder_Entropy</th>\n",
       "      <td>0.51</td>\n",
       "      <td>1.67</td>\n",
       "      <td>0.33</td>\n",
       "      <td>-0.14</td>\n",
       "      <td>1.16</td>\n",
       "      <td>0.87</td>\n",
       "      <td>3.20</td>\n",
       "      <td>1.54</td>\n",
       "      <td>0.12</td>\n",
       "      <td>3.00</td>\n",
       "    </tr>\n",
       "    <tr>\n",
       "      <th>original_glcm_Id</th>\n",
       "      <td>-31.84</td>\n",
       "      <td>0.00</td>\n",
       "      <td>22.12</td>\n",
       "      <td>-75.20</td>\n",
       "      <td>11.52</td>\n",
       "      <td>0.00</td>\n",
       "      <td>1.01e+05</td>\n",
       "      <td>-1.44</td>\n",
       "      <td>0.15</td>\n",
       "      <td>2.74</td>\n",
       "    </tr>\n",
       "    <tr>\n",
       "      <th>original_glcm_Idm</th>\n",
       "      <td>31.36</td>\n",
       "      <td>4.18e+13</td>\n",
       "      <td>19.07</td>\n",
       "      <td>-6.02</td>\n",
       "      <td>68.75</td>\n",
       "      <td>0.00</td>\n",
       "      <td>7.18e+29</td>\n",
       "      <td>1.64</td>\n",
       "      <td>0.10</td>\n",
       "      <td>3.32</td>\n",
       "    </tr>\n",
       "    <tr>\n",
       "      <th>SourceDataset</th>\n",
       "      <td>-0.77</td>\n",
       "      <td>0.46</td>\n",
       "      <td>0.33</td>\n",
       "      <td>-1.42</td>\n",
       "      <td>-0.12</td>\n",
       "      <td>0.24</td>\n",
       "      <td>0.89</td>\n",
       "      <td>-2.32</td>\n",
       "      <td>0.02</td>\n",
       "      <td>5.63</td>\n",
       "    </tr>\n",
       "    <tr>\n",
       "      <th>Nstage</th>\n",
       "      <td>0.16</td>\n",
       "      <td>1.17</td>\n",
       "      <td>0.08</td>\n",
       "      <td>0.01</td>\n",
       "      <td>0.31</td>\n",
       "      <td>1.01</td>\n",
       "      <td>1.36</td>\n",
       "      <td>2.11</td>\n",
       "      <td>0.03</td>\n",
       "      <td>4.84</td>\n",
       "    </tr>\n",
       "    <tr>\n",
       "      <th>Tstage</th>\n",
       "      <td>0.04</td>\n",
       "      <td>1.04</td>\n",
       "      <td>0.08</td>\n",
       "      <td>-0.12</td>\n",
       "      <td>0.21</td>\n",
       "      <td>0.89</td>\n",
       "      <td>1.23</td>\n",
       "      <td>0.50</td>\n",
       "      <td>0.62</td>\n",
       "      <td>0.70</td>\n",
       "    </tr>\n",
       "    <tr>\n",
       "      <th>age</th>\n",
       "      <td>0.02</td>\n",
       "      <td>1.02</td>\n",
       "      <td>0.01</td>\n",
       "      <td>0.01</td>\n",
       "      <td>0.04</td>\n",
       "      <td>1.01</td>\n",
       "      <td>1.04</td>\n",
       "      <td>2.52</td>\n",
       "      <td>0.01</td>\n",
       "      <td>6.41</td>\n",
       "    </tr>\n",
       "  </tbody>\n",
       "</table><div>\n",
       "<style scoped>\n",
       "    .dataframe tbody tr th:only-of-type {\n",
       "        vertical-align: middle;\n",
       "    }\n",
       "\n",
       "    .dataframe tbody tr th {\n",
       "        vertical-align: top;\n",
       "    }\n",
       "\n",
       "    .dataframe thead th {\n",
       "        text-align: right;\n",
       "    }\n",
       "</style>\n",
       "<table border=\"1\" class=\"dataframe\">\n",
       "  <tbody>\n",
       "    <tr>\n",
       "      <th>Concordance</th>\n",
       "      <td>0.71</td>\n",
       "    </tr>\n",
       "    <tr>\n",
       "      <th>Log-likelihood ratio test</th>\n",
       "      <td>81.34 on 10 df, -log2(p)=41.73</td>\n",
       "    </tr>\n",
       "  </tbody>\n",
       "</table>\n",
       "</div>"
      ],
      "text/plain": [
       "<IPython.core.display.HTML object>"
      ]
     },
     "metadata": {},
     "output_type": "display_data"
    }
   ],
   "source": [
    "cph.print_summary()"
   ]
  },
  {
   "cell_type": "markdown",
   "metadata": {},
   "source": [
    " Although using Cox proportional hazard model has come to the fore by most researchers in medical and cancer fields, results of accelerated failure-time models have often been more valid and have had minor bias since these models have better fitness in similar conditions due to a specific statistical distribution for the survival time and their not having need to PH assumption. Accelerated failure-time models will also be reliable alternatives to Cox proportional hazard model where this assumption is not made. In addition, accelerated failure-time models may offer some benefits.\n",
    " Based on asymptotic results, accelerated failure-time models lead to more efficient parameters than proportional hazard model. With a reduction in sample size, relative efficiency may further change in favor of accelerated failure-time models. When empirical information is adequate, accelerated failure-time models can prepare some insights into the form of the baseline hazard.\n",
    "\n",
    "From paper : A Comparison between Accelerated Failure-time and Cox Proportional Hazard Models in Analyzing the Survival of Gastric Cancer Patients\n",
    "### $\\color{red}{\\text { Let's try it out}}$"
   ]
  },
  {
   "cell_type": "markdown",
   "metadata": {},
   "source": [
    "## WeibullAFTFitter"
   ]
  },
  {
   "cell_type": "code",
   "execution_count": 17,
   "metadata": {},
   "outputs": [],
   "source": [
    "Wei = WeibullAFTFitter().fit(pd.concat([df_X_train, df_y], axis = 1),duration_col = 'SurvivalTime', event_col='Event') "
   ]
  },
  {
   "cell_type": "code",
   "execution_count": 18,
   "metadata": {
    "scrolled": true
   },
   "outputs": [
    {
     "data": {
      "text/html": [
       "<div>\n",
       "<style scoped>\n",
       "    .dataframe tbody tr th:only-of-type {\n",
       "        vertical-align: middle;\n",
       "    }\n",
       "\n",
       "    .dataframe tbody tr th {\n",
       "        vertical-align: top;\n",
       "    }\n",
       "\n",
       "    .dataframe thead th {\n",
       "        text-align: right;\n",
       "    }\n",
       "</style>\n",
       "<table border=\"1\" class=\"dataframe\">\n",
       "  <tbody>\n",
       "    <tr>\n",
       "      <th>model</th>\n",
       "      <td>lifelines.WeibullAFTFitter</td>\n",
       "    </tr>\n",
       "    <tr>\n",
       "      <th>duration col</th>\n",
       "      <td>'SurvivalTime'</td>\n",
       "    </tr>\n",
       "    <tr>\n",
       "      <th>event col</th>\n",
       "      <td>'Event'</td>\n",
       "    </tr>\n",
       "    <tr>\n",
       "      <th>number of observations</th>\n",
       "      <td>300</td>\n",
       "    </tr>\n",
       "    <tr>\n",
       "      <th>number of events observed</th>\n",
       "      <td>162</td>\n",
       "    </tr>\n",
       "    <tr>\n",
       "      <th>log-likelihood</th>\n",
       "      <td>-1304.58</td>\n",
       "    </tr>\n",
       "    <tr>\n",
       "      <th>time fit was run</th>\n",
       "      <td>2020-01-28 23:58:26 UTC</td>\n",
       "    </tr>\n",
       "  </tbody>\n",
       "</table>\n",
       "</div><table border=\"1\" class=\"dataframe\">\n",
       "  <thead>\n",
       "    <tr style=\"text-align: right;\">\n",
       "      <th></th>\n",
       "      <th></th>\n",
       "      <th>coef</th>\n",
       "      <th>exp(coef)</th>\n",
       "      <th>se(coef)</th>\n",
       "      <th>coef lower 95%</th>\n",
       "      <th>coef upper 95%</th>\n",
       "      <th>exp(coef) lower 95%</th>\n",
       "      <th>exp(coef) upper 95%</th>\n",
       "      <th>z</th>\n",
       "      <th>p</th>\n",
       "      <th>-log2(p)</th>\n",
       "    </tr>\n",
       "  </thead>\n",
       "  <tbody>\n",
       "    <tr>\n",
       "      <th rowspan=\"11\" valign=\"top\">lambda_</th>\n",
       "      <th>original_shape_Sphericity</th>\n",
       "      <td>-1.48</td>\n",
       "      <td>0.23</td>\n",
       "      <td>1.24</td>\n",
       "      <td>-3.92</td>\n",
       "      <td>0.95</td>\n",
       "      <td>0.02</td>\n",
       "      <td>2.59</td>\n",
       "      <td>-1.19</td>\n",
       "      <td>0.23</td>\n",
       "      <td>2.11</td>\n",
       "    </tr>\n",
       "    <tr>\n",
       "      <th>original_shape_SurfaceVolumeRatio</th>\n",
       "      <td>-0.70</td>\n",
       "      <td>0.50</td>\n",
       "      <td>0.94</td>\n",
       "      <td>-2.54</td>\n",
       "      <td>1.14</td>\n",
       "      <td>0.08</td>\n",
       "      <td>3.14</td>\n",
       "      <td>-0.74</td>\n",
       "      <td>0.46</td>\n",
       "      <td>1.13</td>\n",
       "    </tr>\n",
       "    <tr>\n",
       "      <th>original_shape_Maximum3DDiameter</th>\n",
       "      <td>-0.01</td>\n",
       "      <td>0.99</td>\n",
       "      <td>0.00</td>\n",
       "      <td>-0.02</td>\n",
       "      <td>-0.00</td>\n",
       "      <td>0.98</td>\n",
       "      <td>1.00</td>\n",
       "      <td>-2.17</td>\n",
       "      <td>0.03</td>\n",
       "      <td>5.06</td>\n",
       "    </tr>\n",
       "    <tr>\n",
       "      <th>original_firstorder_Entropy</th>\n",
       "      <td>-0.52</td>\n",
       "      <td>0.60</td>\n",
       "      <td>0.33</td>\n",
       "      <td>-1.16</td>\n",
       "      <td>0.13</td>\n",
       "      <td>0.31</td>\n",
       "      <td>1.14</td>\n",
       "      <td>-1.57</td>\n",
       "      <td>0.12</td>\n",
       "      <td>3.10</td>\n",
       "    </tr>\n",
       "    <tr>\n",
       "      <th>original_glcm_Id</th>\n",
       "      <td>29.27</td>\n",
       "      <td>5.17e+12</td>\n",
       "      <td>21.43</td>\n",
       "      <td>-12.73</td>\n",
       "      <td>71.28</td>\n",
       "      <td>0.00</td>\n",
       "      <td>9.07e+30</td>\n",
       "      <td>1.37</td>\n",
       "      <td>0.17</td>\n",
       "      <td>2.54</td>\n",
       "    </tr>\n",
       "    <tr>\n",
       "      <th>original_glcm_Idm</th>\n",
       "      <td>-29.13</td>\n",
       "      <td>0.00</td>\n",
       "      <td>18.51</td>\n",
       "      <td>-65.40</td>\n",
       "      <td>7.14</td>\n",
       "      <td>0.00</td>\n",
       "      <td>1267.54</td>\n",
       "      <td>-1.57</td>\n",
       "      <td>0.12</td>\n",
       "      <td>3.11</td>\n",
       "    </tr>\n",
       "    <tr>\n",
       "      <th>SourceDataset</th>\n",
       "      <td>0.91</td>\n",
       "      <td>2.49</td>\n",
       "      <td>0.32</td>\n",
       "      <td>0.30</td>\n",
       "      <td>1.53</td>\n",
       "      <td>1.34</td>\n",
       "      <td>4.63</td>\n",
       "      <td>2.90</td>\n",
       "      <td>&lt;0.005</td>\n",
       "      <td>8.05</td>\n",
       "    </tr>\n",
       "    <tr>\n",
       "      <th>Nstage</th>\n",
       "      <td>-0.14</td>\n",
       "      <td>0.87</td>\n",
       "      <td>0.07</td>\n",
       "      <td>-0.29</td>\n",
       "      <td>0.01</td>\n",
       "      <td>0.75</td>\n",
       "      <td>1.01</td>\n",
       "      <td>-1.89</td>\n",
       "      <td>0.06</td>\n",
       "      <td>4.08</td>\n",
       "    </tr>\n",
       "    <tr>\n",
       "      <th>Tstage</th>\n",
       "      <td>-0.03</td>\n",
       "      <td>0.97</td>\n",
       "      <td>0.08</td>\n",
       "      <td>-0.19</td>\n",
       "      <td>0.13</td>\n",
       "      <td>0.83</td>\n",
       "      <td>1.14</td>\n",
       "      <td>-0.35</td>\n",
       "      <td>0.73</td>\n",
       "      <td>0.46</td>\n",
       "    </tr>\n",
       "    <tr>\n",
       "      <th>age</th>\n",
       "      <td>-0.02</td>\n",
       "      <td>0.98</td>\n",
       "      <td>0.01</td>\n",
       "      <td>-0.04</td>\n",
       "      <td>-0.00</td>\n",
       "      <td>0.96</td>\n",
       "      <td>1.00</td>\n",
       "      <td>-2.44</td>\n",
       "      <td>0.01</td>\n",
       "      <td>6.10</td>\n",
       "    </tr>\n",
       "    <tr>\n",
       "      <th>_intercept</th>\n",
       "      <td>10.95</td>\n",
       "      <td>57090.25</td>\n",
       "      <td>3.88</td>\n",
       "      <td>3.35</td>\n",
       "      <td>18.56</td>\n",
       "      <td>28.44</td>\n",
       "      <td>1.15e+08</td>\n",
       "      <td>2.82</td>\n",
       "      <td>&lt;0.005</td>\n",
       "      <td>7.71</td>\n",
       "    </tr>\n",
       "    <tr>\n",
       "      <th>rho_</th>\n",
       "      <th>_intercept</th>\n",
       "      <td>0.02</td>\n",
       "      <td>1.02</td>\n",
       "      <td>0.07</td>\n",
       "      <td>-0.11</td>\n",
       "      <td>0.15</td>\n",
       "      <td>0.90</td>\n",
       "      <td>1.16</td>\n",
       "      <td>0.29</td>\n",
       "      <td>0.78</td>\n",
       "      <td>0.37</td>\n",
       "    </tr>\n",
       "  </tbody>\n",
       "</table><div>\n",
       "<style scoped>\n",
       "    .dataframe tbody tr th:only-of-type {\n",
       "        vertical-align: middle;\n",
       "    }\n",
       "\n",
       "    .dataframe tbody tr th {\n",
       "        vertical-align: top;\n",
       "    }\n",
       "\n",
       "    .dataframe thead th {\n",
       "        text-align: right;\n",
       "    }\n",
       "</style>\n",
       "<table border=\"1\" class=\"dataframe\">\n",
       "  <tbody>\n",
       "    <tr>\n",
       "      <th>Concordance</th>\n",
       "      <td>0.71</td>\n",
       "    </tr>\n",
       "    <tr>\n",
       "      <th>Log-likelihood ratio test</th>\n",
       "      <td>97.74 on 10 df, -log2(p)=52.53</td>\n",
       "    </tr>\n",
       "  </tbody>\n",
       "</table>\n",
       "</div>"
      ],
      "text/plain": [
       "<IPython.core.display.HTML object>"
      ]
     },
     "metadata": {},
     "output_type": "display_data"
    }
   ],
   "source": [
    "Wei.print_summary()"
   ]
  },
  {
   "cell_type": "markdown",
   "metadata": {},
   "source": [
    "## LogNormalAFTFitter "
   ]
  },
  {
   "cell_type": "code",
   "execution_count": 19,
   "metadata": {},
   "outputs": [],
   "source": [
    "log = LogNormalAFTFitter().fit(pd.concat([df_X_train, df_y], axis = 1),duration_col = 'SurvivalTime', event_col='Event') "
   ]
  },
  {
   "cell_type": "code",
   "execution_count": 20,
   "metadata": {},
   "outputs": [
    {
     "data": {
      "text/html": [
       "<div>\n",
       "<style scoped>\n",
       "    .dataframe tbody tr th:only-of-type {\n",
       "        vertical-align: middle;\n",
       "    }\n",
       "\n",
       "    .dataframe tbody tr th {\n",
       "        vertical-align: top;\n",
       "    }\n",
       "\n",
       "    .dataframe thead th {\n",
       "        text-align: right;\n",
       "    }\n",
       "</style>\n",
       "<table border=\"1\" class=\"dataframe\">\n",
       "  <tbody>\n",
       "    <tr>\n",
       "      <th>model</th>\n",
       "      <td>lifelines.LogNormalAFTFitter</td>\n",
       "    </tr>\n",
       "    <tr>\n",
       "      <th>duration col</th>\n",
       "      <td>'SurvivalTime'</td>\n",
       "    </tr>\n",
       "    <tr>\n",
       "      <th>event col</th>\n",
       "      <td>'Event'</td>\n",
       "    </tr>\n",
       "    <tr>\n",
       "      <th>number of observations</th>\n",
       "      <td>300</td>\n",
       "    </tr>\n",
       "    <tr>\n",
       "      <th>number of events observed</th>\n",
       "      <td>162</td>\n",
       "    </tr>\n",
       "    <tr>\n",
       "      <th>log-likelihood</th>\n",
       "      <td>-1301.29</td>\n",
       "    </tr>\n",
       "    <tr>\n",
       "      <th>time fit was run</th>\n",
       "      <td>2020-01-28 23:58:27 UTC</td>\n",
       "    </tr>\n",
       "  </tbody>\n",
       "</table>\n",
       "</div><table border=\"1\" class=\"dataframe\">\n",
       "  <thead>\n",
       "    <tr style=\"text-align: right;\">\n",
       "      <th></th>\n",
       "      <th></th>\n",
       "      <th>coef</th>\n",
       "      <th>exp(coef)</th>\n",
       "      <th>se(coef)</th>\n",
       "      <th>coef lower 95%</th>\n",
       "      <th>coef upper 95%</th>\n",
       "      <th>exp(coef) lower 95%</th>\n",
       "      <th>exp(coef) upper 95%</th>\n",
       "      <th>z</th>\n",
       "      <th>p</th>\n",
       "      <th>-log2(p)</th>\n",
       "    </tr>\n",
       "  </thead>\n",
       "  <tbody>\n",
       "    <tr>\n",
       "      <th rowspan=\"11\" valign=\"top\">mu_</th>\n",
       "      <th>original_shape_Sphericity</th>\n",
       "      <td>-0.35</td>\n",
       "      <td>0.70</td>\n",
       "      <td>1.38</td>\n",
       "      <td>-3.06</td>\n",
       "      <td>2.36</td>\n",
       "      <td>0.05</td>\n",
       "      <td>10.60</td>\n",
       "      <td>-0.25</td>\n",
       "      <td>0.80</td>\n",
       "      <td>0.32</td>\n",
       "    </tr>\n",
       "    <tr>\n",
       "      <th>original_shape_SurfaceVolumeRatio</th>\n",
       "      <td>-0.52</td>\n",
       "      <td>0.59</td>\n",
       "      <td>0.95</td>\n",
       "      <td>-2.38</td>\n",
       "      <td>1.34</td>\n",
       "      <td>0.09</td>\n",
       "      <td>3.80</td>\n",
       "      <td>-0.55</td>\n",
       "      <td>0.58</td>\n",
       "      <td>0.78</td>\n",
       "    </tr>\n",
       "    <tr>\n",
       "      <th>original_shape_Maximum3DDiameter</th>\n",
       "      <td>-0.01</td>\n",
       "      <td>0.99</td>\n",
       "      <td>0.00</td>\n",
       "      <td>-0.02</td>\n",
       "      <td>0.00</td>\n",
       "      <td>0.98</td>\n",
       "      <td>1.00</td>\n",
       "      <td>-1.52</td>\n",
       "      <td>0.13</td>\n",
       "      <td>2.95</td>\n",
       "    </tr>\n",
       "    <tr>\n",
       "      <th>original_firstorder_Entropy</th>\n",
       "      <td>-0.46</td>\n",
       "      <td>0.63</td>\n",
       "      <td>0.33</td>\n",
       "      <td>-1.11</td>\n",
       "      <td>0.19</td>\n",
       "      <td>0.33</td>\n",
       "      <td>1.21</td>\n",
       "      <td>-1.40</td>\n",
       "      <td>0.16</td>\n",
       "      <td>2.62</td>\n",
       "    </tr>\n",
       "    <tr>\n",
       "      <th>original_glcm_Id</th>\n",
       "      <td>44.22</td>\n",
       "      <td>1.61e+19</td>\n",
       "      <td>23.26</td>\n",
       "      <td>-1.36</td>\n",
       "      <td>89.81</td>\n",
       "      <td>0.26</td>\n",
       "      <td>1.01e+39</td>\n",
       "      <td>1.90</td>\n",
       "      <td>0.06</td>\n",
       "      <td>4.13</td>\n",
       "    </tr>\n",
       "    <tr>\n",
       "      <th>original_glcm_Idm</th>\n",
       "      <td>-41.77</td>\n",
       "      <td>0.00</td>\n",
       "      <td>19.83</td>\n",
       "      <td>-80.64</td>\n",
       "      <td>-2.90</td>\n",
       "      <td>0.00</td>\n",
       "      <td>0.05</td>\n",
       "      <td>-2.11</td>\n",
       "      <td>0.04</td>\n",
       "      <td>4.83</td>\n",
       "    </tr>\n",
       "    <tr>\n",
       "      <th>SourceDataset</th>\n",
       "      <td>0.90</td>\n",
       "      <td>2.45</td>\n",
       "      <td>0.34</td>\n",
       "      <td>0.24</td>\n",
       "      <td>1.56</td>\n",
       "      <td>1.27</td>\n",
       "      <td>4.74</td>\n",
       "      <td>2.68</td>\n",
       "      <td>0.01</td>\n",
       "      <td>7.07</td>\n",
       "    </tr>\n",
       "    <tr>\n",
       "      <th>Nstage</th>\n",
       "      <td>-0.22</td>\n",
       "      <td>0.80</td>\n",
       "      <td>0.08</td>\n",
       "      <td>-0.39</td>\n",
       "      <td>-0.05</td>\n",
       "      <td>0.68</td>\n",
       "      <td>0.95</td>\n",
       "      <td>-2.59</td>\n",
       "      <td>0.01</td>\n",
       "      <td>6.71</td>\n",
       "    </tr>\n",
       "    <tr>\n",
       "      <th>Tstage</th>\n",
       "      <td>-0.01</td>\n",
       "      <td>0.99</td>\n",
       "      <td>0.10</td>\n",
       "      <td>-0.20</td>\n",
       "      <td>0.18</td>\n",
       "      <td>0.82</td>\n",
       "      <td>1.20</td>\n",
       "      <td>-0.07</td>\n",
       "      <td>0.94</td>\n",
       "      <td>0.09</td>\n",
       "    </tr>\n",
       "    <tr>\n",
       "      <th>age</th>\n",
       "      <td>-0.03</td>\n",
       "      <td>0.97</td>\n",
       "      <td>0.01</td>\n",
       "      <td>-0.05</td>\n",
       "      <td>-0.01</td>\n",
       "      <td>0.95</td>\n",
       "      <td>0.99</td>\n",
       "      <td>-2.79</td>\n",
       "      <td>0.01</td>\n",
       "      <td>7.59</td>\n",
       "    </tr>\n",
       "    <tr>\n",
       "      <th>_intercept</th>\n",
       "      <td>8.03</td>\n",
       "      <td>3082.46</td>\n",
       "      <td>4.24</td>\n",
       "      <td>-0.27</td>\n",
       "      <td>16.34</td>\n",
       "      <td>0.76</td>\n",
       "      <td>1.25e+07</td>\n",
       "      <td>1.90</td>\n",
       "      <td>0.06</td>\n",
       "      <td>4.11</td>\n",
       "    </tr>\n",
       "    <tr>\n",
       "      <th>sigma_</th>\n",
       "      <th>_intercept</th>\n",
       "      <td>0.28</td>\n",
       "      <td>1.33</td>\n",
       "      <td>0.06</td>\n",
       "      <td>0.17</td>\n",
       "      <td>0.40</td>\n",
       "      <td>1.18</td>\n",
       "      <td>1.49</td>\n",
       "      <td>4.77</td>\n",
       "      <td>&lt;0.005</td>\n",
       "      <td>19.08</td>\n",
       "    </tr>\n",
       "  </tbody>\n",
       "</table><div>\n",
       "<style scoped>\n",
       "    .dataframe tbody tr th:only-of-type {\n",
       "        vertical-align: middle;\n",
       "    }\n",
       "\n",
       "    .dataframe tbody tr th {\n",
       "        vertical-align: top;\n",
       "    }\n",
       "\n",
       "    .dataframe thead th {\n",
       "        text-align: right;\n",
       "    }\n",
       "</style>\n",
       "<table border=\"1\" class=\"dataframe\">\n",
       "  <tbody>\n",
       "    <tr>\n",
       "      <th>Concordance</th>\n",
       "      <td>0.71</td>\n",
       "    </tr>\n",
       "    <tr>\n",
       "      <th>Log-likelihood ratio test</th>\n",
       "      <td>81.76 on 10 df, -log2(p)=42.01</td>\n",
       "    </tr>\n",
       "  </tbody>\n",
       "</table>\n",
       "</div>"
      ],
      "text/plain": [
       "<IPython.core.display.HTML object>"
      ]
     },
     "metadata": {},
     "output_type": "display_data"
    }
   ],
   "source": [
    "log.print_summary()"
   ]
  },
  {
   "cell_type": "markdown",
   "metadata": {},
   "source": [
    "## Concordance_index"
   ]
  },
  {
   "cell_type": "code",
   "execution_count": 21,
   "metadata": {},
   "outputs": [],
   "source": [
    "df = pd.concat([df_X_train, df_y], axis = 1)"
   ]
  },
  {
   "cell_type": "code",
   "execution_count": 22,
   "metadata": {},
   "outputs": [
    {
     "name": "stdout",
     "output_type": "stream",
     "text": [
      "CoxPHFitter C-index(cross-validation) =  0.6889324715558344\n"
     ]
    }
   ],
   "source": [
    "cox_cv_result = k_fold_cross_validation(cph, df, duration_col='SurvivalTime', event_col='Event', k=5)\n",
    "print('CoxPHFitter C-index(cross-validation) = ', np.mean(cox_cv_result))"
   ]
  },
  {
   "cell_type": "code",
   "execution_count": 23,
   "metadata": {},
   "outputs": [
    {
     "name": "stdout",
     "output_type": "stream",
     "text": [
      "WeibullAFTFitter C-index(cross-validation) =  0.6953436376886148\n"
     ]
    }
   ],
   "source": [
    "cox_cv_result = k_fold_cross_validation(Wei, df, duration_col='SurvivalTime', event_col='Event', k=5)\n",
    "print('WeibullAFTFitter C-index(cross-validation) = ', np.mean(cox_cv_result))"
   ]
  },
  {
   "cell_type": "code",
   "execution_count": 24,
   "metadata": {},
   "outputs": [
    {
     "name": "stdout",
     "output_type": "stream",
     "text": [
      "LogNormalAFTFitter C-index(cross-validation) =  0.6953799937312194\n"
     ]
    }
   ],
   "source": [
    "cox_cv_result = k_fold_cross_validation(log, df, duration_col='SurvivalTime', event_col='Event', k=5)\n",
    "print('LogNormalAFTFitter C-index(cross-validation) = ', np.mean(cox_cv_result))"
   ]
  },
  {
   "cell_type": "markdown",
   "metadata": {},
   "source": [
    "## $\\color{red}{\\text{ Submission}}$"
   ]
  },
  {
   "cell_type": "markdown",
   "metadata": {},
   "source": [
    "## X Test"
   ]
  },
  {
   "cell_type": "code",
   "execution_count": 25,
   "metadata": {},
   "outputs": [],
   "source": [
    "test_path = '/home/zahrael97/Downloads/challenge file/xtest/data_9Cbe5hx'\n",
    "df_Radiomics_test = pd.read_csv(test_path +'/features/radiomics.csv',skiprows=[0,2], header=[0],index_col=0)\n",
    "df_clinical_test = pd.read_csv(test_path + '/features/clinical_data.csv',index_col=0)"
   ]
  },
  {
   "cell_type": "code",
   "execution_count": 26,
   "metadata": {},
   "outputs": [],
   "source": [
    "#fill the NaN values of age \n",
    "df_clinical_test = df_clinical_test.fillna(df_clinical_test.mean())"
   ]
  },
  {
   "cell_type": "code",
   "execution_count": 28,
   "metadata": {},
   "outputs": [],
   "source": [
    "encoder = LabelEncoder()\n",
    "encoder.fit(df_clinical_test[\"SourceDataset\"])\n",
    "df_clinical_test[\"SourceDataset\"] = encoder.transform(df_clinical_test[\"SourceDataset\"])"
   ]
  },
  {
   "cell_type": "code",
   "execution_count": 29,
   "metadata": {},
   "outputs": [],
   "source": [
    "df_X_test = pd.concat([df_Radiomics_test[[\"original_shape_Sphericity\", \"original_shape_SurfaceVolumeRatio\", \"original_shape_Maximum3DDiameter\",\"original_firstorder_Entropy\",\n",
    "\"original_glcm_Id\",\"original_glcm_Idm\"]],df_clinical_test[[\"SourceDataset\",\"Nstage\",\"Tstage\",\"age\"]]], axis=1)"
   ]
  },
  {
   "cell_type": "code",
   "execution_count": 30,
   "metadata": {},
   "outputs": [],
   "source": [
    "#df = pd.concat([df_X_train, df_y], axis = 1)\n",
    "#concordance_index(df['SurvivalTime'], -cph.predict_partial_hazard(df), df['Event'])"
   ]
  },
  {
   "cell_type": "markdown",
   "metadata": {},
   "source": [
    "## Lifetime prediction"
   ]
  },
  {
   "cell_type": "code",
   "execution_count": 31,
   "metadata": {},
   "outputs": [],
   "source": [
    "lifetime_prediction = log.predict_expectation(df_X_test)\n",
    "lifetime_prediction.columns = ['SurvivalTime']\n",
    "lifetime_prediction.index.names = ['PatientID']\n",
    "lifetime_prediction['Event'] = 'NaN'"
   ]
  },
  {
   "cell_type": "code",
   "execution_count": 32,
   "metadata": {},
   "outputs": [
    {
     "data": {
      "text/html": [
       "<a href=submission.csv>Download CSV file</a>"
      ],
      "text/plain": [
       "<IPython.core.display.HTML object>"
      ]
     },
     "execution_count": 32,
     "metadata": {},
     "output_type": "execute_result"
    }
   ],
   "source": [
    "def create_download_link(title = \"Download CSV file\", filename = \"data.csv\"):  \n",
    "    html = '<a href={filename}>{title}</a>'\n",
    "    html = html.format(title=title,filename=filename)\n",
    "    return HTML(html)\n",
    "\n",
    "lifetime_prediction.to_csv('submission.csv')\n",
    "\n",
    "create_download_link(filename='submission.csv')"
   ]
  },
  {
   "cell_type": "markdown",
   "metadata": {},
   "source": [
    "## $\\color{black}{\\text{ Still working on it }}$"
   ]
  },
  {
   "cell_type": "markdown",
   "metadata": {},
   "source": [
    "### Exploring Images data"
   ]
  },
  {
   "cell_type": "code",
   "execution_count": 33,
   "metadata": {},
   "outputs": [],
   "source": [
    "archive = np.load(train_path + '/images/patient_002.npz')\n",
    "scan = archive['scan']\n",
    "mask = archive['mask']\n",
    "#print(scan.shape)"
   ]
  },
  {
   "cell_type": "code",
   "execution_count": null,
   "metadata": {},
   "outputs": [],
   "source": []
  }
 ],
 "metadata": {
  "kernelspec": {
   "display_name": "Python 3",
   "language": "python",
   "name": "python3"
  },
  "language_info": {
   "codemirror_mode": {
    "name": "ipython",
    "version": 3
   },
   "file_extension": ".py",
   "mimetype": "text/x-python",
   "name": "python",
   "nbconvert_exporter": "python",
   "pygments_lexer": "ipython3",
   "version": "3.7.3"
  }
 },
 "nbformat": 4,
 "nbformat_minor": 2
}
